{
 "cells": [
  {
   "cell_type": "code",
   "execution_count": 1,
   "metadata": {},
   "outputs": [
    {
     "name": "stdout",
     "output_type": "stream",
     "text": [
      "\t---Neural Network Implementation----\n",
      "\n",
      "...Using Single Layered Perceprton....\n",
      "\n",
      "Predictions after training on the training dataset:\n",
      "[0 1]: 1\n",
      "\n",
      "Prediction for the dataset [1, 1, 0]:\n",
      "\n",
      "[1, 1]:  1\n"
     ]
    }
   ],
   "source": [
    "# Program to implement neural network for the given dataset\n",
    "import numpy as np\n",
    "from random import choice\n",
    "print(\"\\t---Neural Network Implementation----\\n\")\n",
    "print(\"...Using Single Layered Perceprton....\\n\")\n",
    "np.random.seed(2)\n",
    "activation_function = lambda x:0 if x<0 else 1\n",
    "training_data = [ (np.array([1,1,1]),1),\n",
    "(np.array([1,0,1]),1),\n",
    "(np.array([0,1,1]),0)\n",
    "]\n",
    "# model parameters\n",
    "#learning rate is a configuration parameter that controls the amount that weights are updated,\n",
    "learning_rate = 0.2\n",
    "#the single step that takes to do forward and backward propagation.\n",
    "training_steps = 100\n",
    "# initialize weights\n",
    "W = np.random.rand(3)\n",
    "for i in range(training_steps):\n",
    "  x, y = choice(training_data)\n",
    "#Compute dot Product between input (X) and weights matrix (W)\n",
    "l1 = np.dot(W, x)\n",
    "#Apply the activation function on the l1.\n",
    "#l1 is actually the output of our network.\n",
    "y_pred = activation_function(l1)\n",
    "error = y - y_pred\n",
    "'''\n",
    "model predicts the class correctly the error is equal to zero and no changes are done on the weights,\n",
    "but if it makes a mistake, then we can have a negative (decrease) or positive (increase) update on the weights.\n",
    "'''\n",
    "update = learning_rate * error * x\n",
    "W += update\n",
    "# Output after training\n",
    "print(\"Predictions after training on the training dataset:\")\n",
    "for x, _ in training_data:\n",
    "  y_pred = np.dot(x, W)\n",
    "print(\"{}: {}\".format(x[:2], activation_function(y_pred)))\n",
    "print(\"\\nPrediction for the dataset [1, 1, 0]:\\n\")\n",
    "y_predict = np.dot([1, 1, 0], W)\n",
    "print(\"[1, 1]: \", activation_function(y_predict))"
   ]
  }
 ],
 "metadata": {
  "kernelspec": {
   "display_name": "Python 3",
   "language": "python",
   "name": "python3"
  },
  "language_info": {
   "codemirror_mode": {
    "name": "ipython",
    "version": 3
   },
   "file_extension": ".py",
   "mimetype": "text/x-python",
   "name": "python",
   "nbconvert_exporter": "python",
   "pygments_lexer": "ipython3",
   "version": "3.11.2"
  },
  "orig_nbformat": 4
 },
 "nbformat": 4,
 "nbformat_minor": 2
}
